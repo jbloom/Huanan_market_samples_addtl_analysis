{
 "cells": [
  {
   "cell_type": "markdown",
   "id": "d66ae0a5-9ec3-47e9-be31-766bf2967bb7",
   "metadata": {},
   "source": [
    "# Analyze counts of different canine coronaviruses"
   ]
  },
  {
   "cell_type": "markdown",
   "id": "19863fba-a628-4ab4-9b4c-b3cfa11478dc",
   "metadata": {},
   "source": [
    "Get variables from `snakemake`:"
   ]
  },
  {
   "cell_type": "code",
   "execution_count": null,
   "id": "67cf1ab8-40ee-47d4-a6dc-b7cb4d2cf4c8",
   "metadata": {},
   "outputs": [],
   "source": [
    "input_csv = snakemake.input.csv\n",
    "sample_metadata_csv = snakemake.params.sample_metadata\n",
    "accessions = snakemake.params.accessions\n",
    "metagenomic_descriptions = snakemake.params.metagenomic_descriptions\n",
    "chart_html = snakemake.output.chart"
   ]
  },
  {
   "cell_type": "markdown",
   "id": "f475d73d-341c-4f94-9a89-ca85f1cfc2c3",
   "metadata": {},
   "source": [
    "Import Python modules:"
   ]
  },
  {
   "cell_type": "code",
   "execution_count": null,
   "id": "3f350214-1890-4027-87c9-0d72b55ba088",
   "metadata": {},
   "outputs": [],
   "source": [
    "import altair as alt\n",
    "\n",
    "import pandas as pd"
   ]
  },
  {
   "cell_type": "markdown",
   "id": "20e09023-a555-4b1a-a076-1807a2fbb4b0",
   "metadata": {},
   "source": [
    "Read data:"
   ]
  },
  {
   "cell_type": "code",
   "execution_count": null,
   "id": "515f4ad5-4144-4901-ae8c-ec4742e4e231",
   "metadata": {},
   "outputs": [],
   "source": [
    "sample_metadata = pd.read_csv(sample_metadata_csv)\n",
    "\n",
    "df = (\n",
    "    pd.read_csv(input_csv)\n",
    "    .merge(\n",
    "        sample_metadata.rename(columns={\"Run accession\": \"accession\"}),\n",
    "        on=\"accession\",\n",
    "        validate=\"many_to_one\",\n",
    "    )\n",
    "    .query(\"description in @metagenomic_descriptions\")\n",
    "    .groupby([\"virus_id\", \"read_filtering\", \"Collection date\"], as_index=False)\n",
    "    .aggregate({\"n_reads\": \"sum\"})\n",
    "    .assign(virus=lambda x: x[\"virus_id\"].map(accessions))\n",
    ")\n",
    "\n",
    "df"
   ]
  },
  {
   "cell_type": "code",
   "execution_count": null,
   "id": "2581ff84-f324-47d4-9049-597c23a57ffd",
   "metadata": {},
   "outputs": [],
   "source": [
    "collection_date = alt.selection_point(\n",
    "    fields=[\"Collection date\"],\n",
    "    value=\"2020-01-12\",\n",
    "    bind=alt.binding_select(\n",
    "        name=\"collection date\",\n",
    "        options=sorted(df[\"Collection date\"].unique()),\n",
    "    ),\n",
    ")\n",
    "\n",
    "chart = (\n",
    "    alt.Chart(df)\n",
    "    .add_params(collection_date)\n",
    "    .transform_filter(collection_date)\n",
    "    .encode(\n",
    "        alt.X(\"n_reads\", title=\"number of mapped reads\"),\n",
    "        alt.Y(\"virus\"),\n",
    "        alt.YOffset(\"read_filtering\"),\n",
    "        alt.Color(\"read_filtering\", title=\"read filtering\"),\n",
    "        tooltip=df.columns.tolist(),\n",
    "    )\n",
    "    .mark_bar(stroke=\"black\")\n",
    "    .properties(width=250, height=alt.Step(15))\n",
    ")\n",
    "\n",
    "print(f\"Saving to {chart_html}\")\n",
    "chart.save(chart_html)\n",
    "\n",
    "chart"
   ]
  },
  {
   "cell_type": "code",
   "execution_count": null,
   "id": "92c8a9e7-ef5f-416f-a517-0fac5e09c5b6",
   "metadata": {},
   "outputs": [],
   "source": []
  }
 ],
 "metadata": {
  "kernelspec": {
   "display_name": "Python 3 (ipykernel)",
   "language": "python",
   "name": "python3"
  },
  "language_info": {
   "codemirror_mode": {
    "name": "ipython",
    "version": 3
   },
   "file_extension": ".py",
   "mimetype": "text/x-python",
   "name": "python",
   "nbconvert_exporter": "python",
   "pygments_lexer": "ipython3",
   "version": "3.10.12"
  }
 },
 "nbformat": 4,
 "nbformat_minor": 5
}
