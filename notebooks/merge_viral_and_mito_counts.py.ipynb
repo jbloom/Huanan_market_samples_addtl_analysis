{
 "cells": [
  {
   "cell_type": "markdown",
   "id": "a7d189a3-4b40-4760-b460-dc6604f08e8f",
   "metadata": {},
   "source": [
    "# Merge viral and mitochondrial counts"
   ]
  },
  {
   "cell_type": "code",
   "execution_count": null,
   "id": "5709f71e-e2ec-4cbf-a077-c1f1bbb5dd21",
   "metadata": {},
   "outputs": [],
   "source": [
    "import pandas as pd\n",
    "\n",
    "viral = pd.read_csv(snakemake.input.viral)\n",
    "\n",
    "mito = pd.read_csv(snakemake.params.mito)\n",
    "\n",
    "sample_metadata = pd.read_csv(snakemake.params.sample_metadata)\n",
    "\n",
    "metagenomic_descriptions = snakemake.params.metagenomic_descriptions\n",
    "\n",
    "virus_names = snakemake.params.virus_names"
   ]
  },
  {
   "cell_type": "code",
   "execution_count": null,
   "id": "2b77fbcd-01ad-4763-be66-0d279fe4a6f2",
   "metadata": {},
   "outputs": [],
   "source": [
    "assert set(viral[\"virus_id\"]).issubset(virus_names)\n",
    "\n",
    "df = (\n",
    "    viral\n",
    "    .merge(\n",
    "        (\n",
    "            sample_metadata\n",
    "            .rename(columns={\"Run accession\": \"accession\", \"Sample description\": \"description\"})\n",
    "            .query(\"description in @metagenomic_descriptions\")\n",
    "            [[\"accession\", \"Sample name\"]]\n",
    "        ),\n",
    "        on=\"accession\",\n",
    "        validate=\"many_to_one\",\n",
    "    )\n",
    "    .groupby([\"virus_id\", \"Sample name\"], as_index=False)\n",
    "    .aggregate(virus_reads=pd.NamedAgg(\"n_reads\", \"sum\"))\n",
    "    .assign(virus_name=lambda x: x[\"virus_id\"].map(virus_names))\n",
    "    .merge(\n",
    "        mito\n",
    "        .rename(\n",
    "            columns={\n",
    "                \"reference_id\": \"species_id\",\n",
    "                \"common_name\": \"species_name\",\n",
    "                \"aligned_reads\": \"species_reads\",\n",
    "            }\n",
    "        )\n",
    "        .query(\"description in @metagenomic_descriptions\")\n",
    "    )\n",
    "    .drop(columns=[\"total_reads\", \"SARS2_aligned_reads\", \"description\"])\n",
    ")\n",
    "\n",
    "df.to_csv(snakemake.output.csv, index=False)\n",
    "\n",
    "df"
   ]
  }
 ],
 "metadata": {
  "kernelspec": {
   "display_name": "Python 3 (ipykernel)",
   "language": "python",
   "name": "python3"
  },
  "language_info": {
   "codemirror_mode": {
    "name": "ipython",
    "version": 3
   },
   "file_extension": ".py",
   "mimetype": "text/x-python",
   "name": "python",
   "nbconvert_exporter": "python",
   "pygments_lexer": "ipython3",
   "version": "3.10.12"
  }
 },
 "nbformat": 4,
 "nbformat_minor": 5
}
