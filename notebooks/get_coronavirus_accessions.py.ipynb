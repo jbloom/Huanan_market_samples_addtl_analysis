{
 "cells": [
  {
   "cell_type": "markdown",
   "id": "870ba686-31e3-403c-8415-4396a91768a2",
   "metadata": {},
   "source": [
    "# Extract all accessions for coronaviruses from Crits-Christoph et al supplementary Excel file"
   ]
  },
  {
   "cell_type": "code",
   "execution_count": null,
   "id": "85532938-9d0d-4398-84e3-82c5dddd2251",
   "metadata": {},
   "outputs": [],
   "source": [
    "import pandas as pd\n",
    "\n",
    "(\n",
    "    pd.read_excel(\n",
    "        snakemake.input.xlsx,\n",
    "        sheet_name=\"S17 - Mammalian virus abundance\",\n",
    "    )\n",
    "    .query(\"`Viral name`.str.contains('coronavirus')\")\n",
    "    .groupby([\"Viral genome\", \"Viral name\"], as_index=False)\n",
    "    .aggregate(n_runs=pd.NamedAgg(\"Sequencing Run\", \"count\"))\n",
    "    .sort_values(\"n_runs\", ascending=False)\n",
    "    .to_csv(snakemake.output.csv, index=False)\n",
    ")"
   ]
  },
  {
   "cell_type": "code",
   "execution_count": null,
   "id": "fb5037ec-89dc-4b3c-a8a2-c801f326aa02",
   "metadata": {},
   "outputs": [],
   "source": []
  }
 ],
 "metadata": {
  "kernelspec": {
   "display_name": "Python 3 (ipykernel)",
   "language": "python",
   "name": "python3"
  },
  "language_info": {
   "codemirror_mode": {
    "name": "ipython",
    "version": 3
   },
   "file_extension": ".py",
   "mimetype": "text/x-python",
   "name": "python",
   "nbconvert_exporter": "python",
   "pygments_lexer": "ipython3",
   "version": "3.10.12"
  }
 },
 "nbformat": 4,
 "nbformat_minor": 5
}
